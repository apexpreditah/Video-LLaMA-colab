{
  "nbformat": 4,
  "nbformat_minor": 0,
  "metadata": {
    "colab": {
      "provenance": [],
      "gpuType": "T4"
    },
    "kernelspec": {
      "name": "python3",
      "display_name": "Python 3"
    },
    "language_info": {
      "name": "python"
    },
    "accelerator": "GPU"
  },
  "cells": [
    {
      "cell_type": "markdown",
      "metadata": {
        "id": "view-in-github"
      },
      "source": [
        "[![Open In Colab](https://colab.research.google.com/assets/colab-badge.svg)](https://colab.research.google.com/github/camenduru/Video-LLaMA-colab/blob/main/Video_LLaMA_colab.ipynb)"
      ]
    },
    {
      "cell_type": "code",
      "execution_count": null,
      "metadata": {
        "id": "_bfzsxn61Q7S"
      },
      "outputs": [],
      "source": [
        "%cd /content\n",
        "!apt -y install -qq aria2\n",
        "!pip install gradio omegaconf salesforce-lavis bitsandbytes accelerate transformers==4.28.0\n",
        "!git clone -b dev https://github.com/camenduru/Video-LLaMA-hf\n",
        "!aria2c --console-log-level=error -c -x 16 -s 16 -k 1M https://huggingface.co/vdo/Video-LLaMA-Series/resolve/main/ckpt/blip2_pretrained_flant5xxl.pth -d /content/Video-LLaMA-hf/ckpt -o blip2_pretrained_flant5xxl.pth\n",
        "!aria2c --console-log-level=error -c -x 16 -s 16 -k 1M https://huggingface.co/vdo/Video-LLaMA-Series/resolve/main/ckpt/finetune-vicuna7b-v2.pth -d /content/Video-LLaMA-hf/ckpt -o finetune-vicuna7b-v2.pth\n",
        "%cd /content/Video-LLaMA-hf\n",
        "!python app.py"
      ]
    }
  ]
}